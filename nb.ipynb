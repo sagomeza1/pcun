{
 "cells": [
  {
   "cell_type": "code",
   "execution_count": 1,
   "id": "21c7f243",
   "metadata": {},
   "outputs": [],
   "source": [
    "import pandas as pd\n",
    "import numpy as np"
   ]
  },
  {
   "cell_type": "code",
   "execution_count": 2,
   "id": "d748c644",
   "metadata": {},
   "outputs": [],
   "source": [
    "PATH_EVENTOS    = \"data\\\\eventos.csv\"\n",
    "PATH_PAGOS      = \"data\\\\pagos.csv\"\n",
    "PATH_USUARIOS   = \"data\\\\usuarios.csv\""
   ]
  },
  {
   "cell_type": "code",
   "execution_count": 3,
   "id": "0d4cd66b",
   "metadata": {},
   "outputs": [],
   "source": [
    "eventos     = pd.read_csv(PATH_EVENTOS)\n",
    "pagos       = pd.read_csv(PATH_PAGOS)\n",
    "usuarios    = pd.read_csv(PATH_USUARIOS)"
   ]
  },
  {
   "cell_type": "code",
   "execution_count": 4,
   "id": "ac1d57ed",
   "metadata": {},
   "outputs": [
    {
     "name": "stdout",
     "output_type": "stream",
     "text": [
      "eventos.shape=(25293, 4)\n",
      "pagos.shape=(20000, 6)\n",
      "usuarios.shape=(5000, 4)\n"
     ]
    }
   ],
   "source": [
    "print(f\"{eventos.shape=}\")\n",
    "print(f\"{pagos.shape=}\")\n",
    "print(f\"{usuarios.shape=}\")"
   ]
  },
  {
   "cell_type": "code",
   "execution_count": 5,
   "id": "129b4721",
   "metadata": {},
   "outputs": [
    {
     "data": {
      "text/html": [
       "<div>\n",
       "<style scoped>\n",
       "    .dataframe tbody tr th:only-of-type {\n",
       "        vertical-align: middle;\n",
       "    }\n",
       "\n",
       "    .dataframe tbody tr th {\n",
       "        vertical-align: top;\n",
       "    }\n",
       "\n",
       "    .dataframe thead th {\n",
       "        text-align: right;\n",
       "    }\n",
       "</style>\n",
       "<table border=\"1\" class=\"dataframe\">\n",
       "  <thead>\n",
       "    <tr style=\"text-align: right;\">\n",
       "      <th></th>\n",
       "      <th>user_id</th>\n",
       "      <th>fecha_evento</th>\n",
       "      <th>tipo_evento</th>\n",
       "      <th>dispositivo</th>\n",
       "    </tr>\n",
       "  </thead>\n",
       "  <tbody>\n",
       "    <tr>\n",
       "      <th>0</th>\n",
       "      <td>1</td>\n",
       "      <td>2023-02-06</td>\n",
       "      <td>login</td>\n",
       "      <td>Android</td>\n",
       "    </tr>\n",
       "    <tr>\n",
       "      <th>1</th>\n",
       "      <td>1</td>\n",
       "      <td>2023-01-25</td>\n",
       "      <td>compra</td>\n",
       "      <td>Android</td>\n",
       "    </tr>\n",
       "    <tr>\n",
       "      <th>2</th>\n",
       "      <td>1</td>\n",
       "      <td>2024-03-27</td>\n",
       "      <td>compra</td>\n",
       "      <td>Web</td>\n",
       "    </tr>\n",
       "    <tr>\n",
       "      <th>3</th>\n",
       "      <td>1</td>\n",
       "      <td>2023-02-03</td>\n",
       "      <td>login</td>\n",
       "      <td>Android</td>\n",
       "    </tr>\n",
       "    <tr>\n",
       "      <th>4</th>\n",
       "      <td>1</td>\n",
       "      <td>2023-04-29</td>\n",
       "      <td>compra</td>\n",
       "      <td>Web</td>\n",
       "    </tr>\n",
       "  </tbody>\n",
       "</table>\n",
       "</div>"
      ],
      "text/plain": [
       "   user_id fecha_evento tipo_evento dispositivo\n",
       "0        1   2023-02-06       login     Android\n",
       "1        1   2023-01-25      compra     Android\n",
       "2        1   2024-03-27      compra         Web\n",
       "3        1   2023-02-03       login     Android\n",
       "4        1   2023-04-29      compra         Web"
      ]
     },
     "execution_count": 5,
     "metadata": {},
     "output_type": "execute_result"
    }
   ],
   "source": [
    "eventos.head()"
   ]
  },
  {
   "cell_type": "code",
   "execution_count": 6,
   "id": "e7a7c3f7",
   "metadata": {},
   "outputs": [
    {
     "data": {
      "text/html": [
       "<div>\n",
       "<style scoped>\n",
       "    .dataframe tbody tr th:only-of-type {\n",
       "        vertical-align: middle;\n",
       "    }\n",
       "\n",
       "    .dataframe tbody tr th {\n",
       "        vertical-align: top;\n",
       "    }\n",
       "\n",
       "    .dataframe thead th {\n",
       "        text-align: right;\n",
       "    }\n",
       "</style>\n",
       "<table border=\"1\" class=\"dataframe\">\n",
       "  <thead>\n",
       "    <tr style=\"text-align: right;\">\n",
       "      <th></th>\n",
       "      <th>pago_id</th>\n",
       "      <th>user_id</th>\n",
       "      <th>fecha_pago</th>\n",
       "      <th>monto</th>\n",
       "      <th>metodo_pago</th>\n",
       "      <th>fraude</th>\n",
       "    </tr>\n",
       "  </thead>\n",
       "  <tbody>\n",
       "    <tr>\n",
       "      <th>0</th>\n",
       "      <td>1</td>\n",
       "      <td>3387</td>\n",
       "      <td>2024-01-11</td>\n",
       "      <td>25.44</td>\n",
       "      <td>Tarjeta Crédito</td>\n",
       "      <td>0</td>\n",
       "    </tr>\n",
       "    <tr>\n",
       "      <th>1</th>\n",
       "      <td>2</td>\n",
       "      <td>3892</td>\n",
       "      <td>2023-07-05</td>\n",
       "      <td>18.53</td>\n",
       "      <td>Tarjeta Crédito</td>\n",
       "      <td>0</td>\n",
       "    </tr>\n",
       "    <tr>\n",
       "      <th>2</th>\n",
       "      <td>3</td>\n",
       "      <td>2743</td>\n",
       "      <td>2023-06-28</td>\n",
       "      <td>35.90</td>\n",
       "      <td>Tarjeta Crédito</td>\n",
       "      <td>0</td>\n",
       "    </tr>\n",
       "    <tr>\n",
       "      <th>3</th>\n",
       "      <td>4</td>\n",
       "      <td>2935</td>\n",
       "      <td>2023-09-07</td>\n",
       "      <td>0.30</td>\n",
       "      <td>Tarjeta Crédito</td>\n",
       "      <td>0</td>\n",
       "    </tr>\n",
       "    <tr>\n",
       "      <th>4</th>\n",
       "      <td>5</td>\n",
       "      <td>3972</td>\n",
       "      <td>2024-06-05</td>\n",
       "      <td>1.48</td>\n",
       "      <td>Débito</td>\n",
       "      <td>0</td>\n",
       "    </tr>\n",
       "  </tbody>\n",
       "</table>\n",
       "</div>"
      ],
      "text/plain": [
       "   pago_id  user_id  fecha_pago  monto      metodo_pago  fraude\n",
       "0        1     3387  2024-01-11  25.44  Tarjeta Crédito       0\n",
       "1        2     3892  2023-07-05  18.53  Tarjeta Crédito       0\n",
       "2        3     2743  2023-06-28  35.90  Tarjeta Crédito       0\n",
       "3        4     2935  2023-09-07   0.30  Tarjeta Crédito       0\n",
       "4        5     3972  2024-06-05   1.48           Débito       0"
      ]
     },
     "execution_count": 6,
     "metadata": {},
     "output_type": "execute_result"
    }
   ],
   "source": [
    "pagos.head()"
   ]
  },
  {
   "cell_type": "code",
   "execution_count": 7,
   "id": "4fb45579",
   "metadata": {},
   "outputs": [
    {
     "data": {
      "text/html": [
       "<div>\n",
       "<style scoped>\n",
       "    .dataframe tbody tr th:only-of-type {\n",
       "        vertical-align: middle;\n",
       "    }\n",
       "\n",
       "    .dataframe tbody tr th {\n",
       "        vertical-align: top;\n",
       "    }\n",
       "\n",
       "    .dataframe thead th {\n",
       "        text-align: right;\n",
       "    }\n",
       "</style>\n",
       "<table border=\"1\" class=\"dataframe\">\n",
       "  <thead>\n",
       "    <tr style=\"text-align: right;\">\n",
       "      <th></th>\n",
       "      <th>user_id</th>\n",
       "      <th>pais</th>\n",
       "      <th>fecha_registro</th>\n",
       "      <th>canal_adquisicion</th>\n",
       "    </tr>\n",
       "  </thead>\n",
       "  <tbody>\n",
       "    <tr>\n",
       "      <th>0</th>\n",
       "      <td>1</td>\n",
       "      <td>México</td>\n",
       "      <td>2022-07-24</td>\n",
       "      <td>Orgánico</td>\n",
       "    </tr>\n",
       "    <tr>\n",
       "      <th>1</th>\n",
       "      <td>2</td>\n",
       "      <td>Colombia</td>\n",
       "      <td>2023-12-03</td>\n",
       "      <td>Orgánico</td>\n",
       "    </tr>\n",
       "    <tr>\n",
       "      <th>2</th>\n",
       "      <td>3</td>\n",
       "      <td>Perú</td>\n",
       "      <td>2023-03-03</td>\n",
       "      <td>Referido</td>\n",
       "    </tr>\n",
       "    <tr>\n",
       "      <th>3</th>\n",
       "      <td>4</td>\n",
       "      <td>Perú</td>\n",
       "      <td>2022-03-16</td>\n",
       "      <td>Facebook</td>\n",
       "    </tr>\n",
       "    <tr>\n",
       "      <th>4</th>\n",
       "      <td>5</td>\n",
       "      <td>Colombia</td>\n",
       "      <td>2022-06-12</td>\n",
       "      <td>Referido</td>\n",
       "    </tr>\n",
       "  </tbody>\n",
       "</table>\n",
       "</div>"
      ],
      "text/plain": [
       "   user_id      pais fecha_registro canal_adquisicion\n",
       "0        1    México     2022-07-24          Orgánico\n",
       "1        2  Colombia     2023-12-03          Orgánico\n",
       "2        3      Perú     2023-03-03          Referido\n",
       "3        4      Perú     2022-03-16          Facebook\n",
       "4        5  Colombia     2022-06-12          Referido"
      ]
     },
     "execution_count": 7,
     "metadata": {},
     "output_type": "execute_result"
    }
   ],
   "source": [
    "usuarios.head()"
   ]
  },
  {
   "cell_type": "markdown",
   "id": "dc68cea1",
   "metadata": {},
   "source": [
    "----------------------------------"
   ]
  },
  {
   "cell_type": "markdown",
   "id": "1f6be7db",
   "metadata": {},
   "source": [
    "# 1. SQL & Modelado de datos"
   ]
  },
  {
   "cell_type": "markdown",
   "id": "d571fb13",
   "metadata": {},
   "source": [
    "## Ejercicio 1"
   ]
  },
  {
   "cell_type": "code",
   "execution_count": 8,
   "id": "f296d861",
   "metadata": {},
   "outputs": [
    {
     "data": {
      "text/html": [
       "<div>\n",
       "<style scoped>\n",
       "    .dataframe tbody tr th:only-of-type {\n",
       "        vertical-align: middle;\n",
       "    }\n",
       "\n",
       "    .dataframe tbody tr th {\n",
       "        vertical-align: top;\n",
       "    }\n",
       "\n",
       "    .dataframe thead th {\n",
       "        text-align: right;\n",
       "    }\n",
       "</style>\n",
       "<table border=\"1\" class=\"dataframe\">\n",
       "  <thead>\n",
       "    <tr style=\"text-align: right;\">\n",
       "      <th></th>\n",
       "      <th>canal_adquisicion</th>\n",
       "      <th>ltv_promedio</th>\n",
       "    </tr>\n",
       "  </thead>\n",
       "  <tbody>\n",
       "    <tr>\n",
       "      <th>0</th>\n",
       "      <td>Facebook</td>\n",
       "      <td>203.804739</td>\n",
       "    </tr>\n",
       "    <tr>\n",
       "      <th>1</th>\n",
       "      <td>Google Ads</td>\n",
       "      <td>204.892044</td>\n",
       "    </tr>\n",
       "    <tr>\n",
       "      <th>3</th>\n",
       "      <td>Referido</td>\n",
       "      <td>205.890504</td>\n",
       "    </tr>\n",
       "    <tr>\n",
       "      <th>2</th>\n",
       "      <td>Orgánico</td>\n",
       "      <td>208.425704</td>\n",
       "    </tr>\n",
       "  </tbody>\n",
       "</table>\n",
       "</div>"
      ],
      "text/plain": [
       "  canal_adquisicion  ltv_promedio\n",
       "0          Facebook    203.804739\n",
       "1        Google Ads    204.892044\n",
       "3          Referido    205.890504\n",
       "2          Orgánico    208.425704"
      ]
     },
     "execution_count": 8,
     "metadata": {},
     "output_type": "execute_result"
    }
   ],
   "source": [
    "pagos_por_usuario = pagos.groupby(\"user_id\").agg(ltv_user=(\"monto\", \"sum\")).reset_index()\n",
    "usarios_ltv = usuarios.merge(pagos_por_usuario, how=\"left\", on=\"user_id\")\n",
    "usarios_ltv.groupby(\"canal_adquisicion\").agg(ltv_promedio=(\"ltv_user\", \"mean\")).reset_index().sort_values(\"ltv_promedio\")"
   ]
  },
  {
   "cell_type": "markdown",
   "id": "309375fc",
   "metadata": {},
   "source": [
    "## Ejercicio 2"
   ]
  },
  {
   "cell_type": "code",
   "execution_count": 30,
   "id": "99a550e3",
   "metadata": {},
   "outputs": [],
   "source": [
    "eventos[\"fecha_evento\"] = pd.to_datetime(eventos[\"fecha_evento\"], format=\"%Y-%m-%d\")\n",
    "fecha_lim = eventos[\"fecha_evento\"].max() - pd.Timedelta(days=90)\n",
    "usarios_activos = eventos.loc[eventos[\"fecha_evento\"] >= fecha_lim, \"user_id\"].unique()"
   ]
  },
  {
   "cell_type": "code",
   "execution_count": 18,
   "id": "369cb1fe",
   "metadata": {},
   "outputs": [],
   "source": [
    "metodos = pagos.groupby(\"user_id\").agg(metodos_distintos=(\"metodo_pago\", lambda x: len(np.unique(x)))).reset_index()"
   ]
  },
  {
   "cell_type": "code",
   "execution_count": 38,
   "id": "e2e69a8c",
   "metadata": {},
   "outputs": [],
   "source": [
    "usuarios_activos_metodos = metodos.loc[(metodos[\"user_id\"].isin(usarios_activos)) & (metodos[\"metodos_distintos\"] >= 2), \"user_id\"]"
   ]
  },
  {
   "cell_type": "code",
   "execution_count": 40,
   "id": "a45989a2",
   "metadata": {},
   "outputs": [
    {
     "data": {
      "text/html": [
       "<div>\n",
       "<style scoped>\n",
       "    .dataframe tbody tr th:only-of-type {\n",
       "        vertical-align: middle;\n",
       "    }\n",
       "\n",
       "    .dataframe tbody tr th {\n",
       "        vertical-align: top;\n",
       "    }\n",
       "\n",
       "    .dataframe thead th {\n",
       "        text-align: right;\n",
       "    }\n",
       "</style>\n",
       "<table border=\"1\" class=\"dataframe\">\n",
       "  <thead>\n",
       "    <tr style=\"text-align: right;\">\n",
       "      <th></th>\n",
       "      <th>user_id</th>\n",
       "      <th>pais</th>\n",
       "      <th>fecha_registro</th>\n",
       "      <th>canal_adquisicion</th>\n",
       "    </tr>\n",
       "  </thead>\n",
       "  <tbody>\n",
       "    <tr>\n",
       "      <th>0</th>\n",
       "      <td>4</td>\n",
       "      <td>Perú</td>\n",
       "      <td>2022-03-16</td>\n",
       "      <td>Facebook</td>\n",
       "    </tr>\n",
       "    <tr>\n",
       "      <th>1</th>\n",
       "      <td>6</td>\n",
       "      <td>Chile</td>\n",
       "      <td>2022-05-10</td>\n",
       "      <td>Referido</td>\n",
       "    </tr>\n",
       "    <tr>\n",
       "      <th>2</th>\n",
       "      <td>11</td>\n",
       "      <td>Colombia</td>\n",
       "      <td>2024-02-16</td>\n",
       "      <td>Referido</td>\n",
       "    </tr>\n",
       "    <tr>\n",
       "      <th>3</th>\n",
       "      <td>12</td>\n",
       "      <td>Argentina</td>\n",
       "      <td>2022-06-17</td>\n",
       "      <td>Orgánico</td>\n",
       "    </tr>\n",
       "    <tr>\n",
       "      <th>4</th>\n",
       "      <td>13</td>\n",
       "      <td>Colombia</td>\n",
       "      <td>2023-02-10</td>\n",
       "      <td>Orgánico</td>\n",
       "    </tr>\n",
       "    <tr>\n",
       "      <th>...</th>\n",
       "      <td>...</td>\n",
       "      <td>...</td>\n",
       "      <td>...</td>\n",
       "      <td>...</td>\n",
       "    </tr>\n",
       "    <tr>\n",
       "      <th>2101</th>\n",
       "      <td>4992</td>\n",
       "      <td>Perú</td>\n",
       "      <td>2022-05-01</td>\n",
       "      <td>Orgánico</td>\n",
       "    </tr>\n",
       "    <tr>\n",
       "      <th>2102</th>\n",
       "      <td>4996</td>\n",
       "      <td>Perú</td>\n",
       "      <td>2024-02-09</td>\n",
       "      <td>Facebook</td>\n",
       "    </tr>\n",
       "    <tr>\n",
       "      <th>2103</th>\n",
       "      <td>4997</td>\n",
       "      <td>Perú</td>\n",
       "      <td>2022-11-09</td>\n",
       "      <td>Google Ads</td>\n",
       "    </tr>\n",
       "    <tr>\n",
       "      <th>2104</th>\n",
       "      <td>4998</td>\n",
       "      <td>Chile</td>\n",
       "      <td>2023-09-21</td>\n",
       "      <td>Facebook</td>\n",
       "    </tr>\n",
       "    <tr>\n",
       "      <th>2105</th>\n",
       "      <td>4999</td>\n",
       "      <td>Argentina</td>\n",
       "      <td>2023-01-23</td>\n",
       "      <td>Orgánico</td>\n",
       "    </tr>\n",
       "  </tbody>\n",
       "</table>\n",
       "<p>2106 rows × 4 columns</p>\n",
       "</div>"
      ],
      "text/plain": [
       "      user_id       pais fecha_registro canal_adquisicion\n",
       "0           4       Perú     2022-03-16          Facebook\n",
       "1           6      Chile     2022-05-10          Referido\n",
       "2          11   Colombia     2024-02-16          Referido\n",
       "3          12  Argentina     2022-06-17          Orgánico\n",
       "4          13   Colombia     2023-02-10          Orgánico\n",
       "...       ...        ...            ...               ...\n",
       "2101     4992       Perú     2022-05-01          Orgánico\n",
       "2102     4996       Perú     2024-02-09          Facebook\n",
       "2103     4997       Perú     2022-11-09        Google Ads\n",
       "2104     4998      Chile     2023-09-21          Facebook\n",
       "2105     4999  Argentina     2023-01-23          Orgánico\n",
       "\n",
       "[2106 rows x 4 columns]"
      ]
     },
     "execution_count": 40,
     "metadata": {},
     "output_type": "execute_result"
    }
   ],
   "source": [
    "usuarios[usuarios[\"user_id\"].isin(usuarios_activos_metodos)].reset_index(drop=True)"
   ]
  },
  {
   "cell_type": "code",
   "execution_count": null,
   "id": "4813c8be",
   "metadata": {},
   "outputs": [],
   "source": []
  }
 ],
 "metadata": {
  "kernelspec": {
   "display_name": "venv",
   "language": "python",
   "name": "python3"
  },
  "language_info": {
   "codemirror_mode": {
    "name": "ipython",
    "version": 3
   },
   "file_extension": ".py",
   "mimetype": "text/x-python",
   "name": "python",
   "nbconvert_exporter": "python",
   "pygments_lexer": "ipython3",
   "version": "3.11.9"
  }
 },
 "nbformat": 4,
 "nbformat_minor": 5
}
